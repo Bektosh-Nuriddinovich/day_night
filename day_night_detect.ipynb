{
 "cells": [
  {
   "cell_type": "code",
   "execution_count": 1,
   "id": "fe788fa0",
   "metadata": {},
   "outputs": [],
   "source": [
    "import cv2\n",
    "import numpy as np\n",
    "import matplotlib.pyplot as plt\n",
    "import os\n",
    "import random"
   ]
  },
  {
   "cell_type": "code",
   "execution_count": 2,
   "id": "a44d4adb",
   "metadata": {},
   "outputs": [
    {
     "name": "stdout",
     "output_type": "stream",
     "text": [
      "Total Classes  Deetected: 2\n",
      "Importing Class..\n",
      "0 1 \n"
     ]
    }
   ],
   "source": [
    "datasets_dir=\"D:/Data science/tun_kun/tun_kun/training\"\n",
    "label=[\"day\",\"night\"]\n",
    "\n",
    "data=[]\n",
    "MyList=os.listdir(datasets_dir)\n",
    "print(\"Total Classes  Deetected:\",len(MyList))\n",
    "print(\"Importing Class..\")\n",
    "for i in range(len(MyList)):\n",
    "    PicList=os.listdir(datasets_dir+'/'+label[i])\n",
    "    for j in PicList:\n",
    "        Img=cv2.imread(datasets_dir+'/'+label[i]+\"/\"+j)\n",
    "        Img=cv2.resize(Img,(850,560),interpolation=cv2.INTER_CUBIC)\n",
    "        Img=cv2.cvtColor(Img,cv2.COLOR_BGR2HSV)\n",
    "        data.append((Img,label[i]))\n",
    "    print(i,end=\" \")\n",
    "print()\n"
   ]
  },
  {
   "cell_type": "code",
   "execution_count": 3,
   "id": "9c601c8c",
   "metadata": {},
   "outputs": [],
   "source": [
    "def split(data,Ratio):\n",
    "    splits=random.sample(data,k=int(len(data)*Ratio))\n",
    "    x=[]\n",
    "    y=[]\n",
    "    for i in range(len(splits)):\n",
    "        x.append(splits[i][0])\n",
    "        y.append(splits[i][1])\n",
    "    x=np.array(x,dtype=object)\n",
    "    y=np.array(y)\n",
    "    return x,y"
   ]
  },
  {
   "cell_type": "code",
   "execution_count": 4,
   "id": "55c8a75b",
   "metadata": {},
   "outputs": [
    {
     "data": {
      "image/png": "[encoded data removed]",
      "text/plain": [
       "<Figure size 432x288 with 1 Axes>"
      ]
     },
     "metadata": {
      "needs_background": "light"
     },
     "output_type": "display_data"
    }
   ],
   "source": [
    "(x_train,y_train)=split(data,Ratio=0.8)\n",
    "(x_test,y_test)=split(data,Ratio=0.2)\n",
    "\n",
    "\n",
    "y=[len(x_train),len(x_test)]\n",
    "x=[\"train\",\"test\"]\n",
    "plt.bar(x,y,width = 0.3)\n",
    "plt.show()"
   ]
  },
  {
   "cell_type": "code",
   "execution_count": 5,
   "id": "010ecff9",
   "metadata": {},
   "outputs": [],
   "source": [
    "def mean(img):\n",
    "    return int(np.sum(img[::2])/(850*560))"
   ]
  },
  {
   "cell_type": "code",
   "execution_count": 6,
   "id": "7237a705",
   "metadata": {},
   "outputs": [],
   "source": [
    "def check(img):\n",
    "    mean1=mean(img)\n",
    "    if mean1>124:\n",
    "        return(\"day\")\n",
    "    else:\n",
    "        return(\"night\")"
   ]
  },
  {
   "cell_type": "code",
   "execution_count": 7,
   "id": "6e491ac7",
   "metadata": {},
   "outputs": [],
   "source": [
    "def loss(x_test,y_test):\n",
    "    losses=[]\n",
    "    for i in range(len(x_test)):\n",
    "        img=x_test[i]\n",
    "        predict=check(img)\n",
    "    if not(y_test[i]==predict):\n",
    "        losses.append(img)\n",
    "    return losses"
   ]
  },
  {
   "cell_type": "code",
   "execution_count": 8,
   "id": "ff952253",
   "metadata": {},
   "outputs": [],
   "source": [
    "Losses=loss(x_test,y_test)"
   ]
  },
  {
   "cell_type": "code",
   "execution_count": 9,
   "id": "a36e8cf0",
   "metadata": {},
   "outputs": [
    {
     "data": {
      "text/plain": [
       "100.0"
      ]
     },
     "execution_count": 9,
     "metadata": {},
     "output_type": "execute_result"
    }
   ],
   "source": [
    "accuracy=(len(x_test)-len(Losses))/(len(x_test))*100\n",
    "accuracy"
   ]
  }
 ],
 "metadata": {
  "kernelspec": {
   "display_name": "Python 3 (ipykernel)",
   "language": "python",
   "name": "python3"
  },
  "language_info": {
   "codemirror_mode": {
    "name": "ipython",
    "version": 3
   },
   "file_extension": ".py",
   "mimetype": "text/x-python",
   "name": "python",
   "nbconvert_exporter": "python",
   "pygments_lexer": "ipython3",
   "version": "3.8.8"
  }
 },
 "nbformat": 4,
 "nbformat_minor": 5
}
